{
 "cells": [
  {
   "cell_type": "code",
   "execution_count": 1,
   "id": "a0ac9a4c",
   "metadata": {},
   "outputs": [],
   "source": [
    "import sqlite3\n",
    "import pandas as pd\n",
    "import matplotlib.pyplot as plt"
   ]
  },
  {
   "cell_type": "code",
   "execution_count": 2,
   "id": "90fe8fcd",
   "metadata": {},
   "outputs": [],
   "source": [
    "# Connect to database\n",
    "conn = sqlite3.connect('seoul_bike.db')"
   ]
  },
  {
   "cell_type": "code",
   "execution_count": 3,
   "id": "1f88a495",
   "metadata": {},
   "outputs": [
    {
     "name": "stdout",
     "output_type": "stream",
     "text": [
      "Data Collection Overview:\n",
      "   collection_times  unique_stations  first_collection   last_collection  \\\n",
      "0                58             2729  2025-07-25 18:17  2025-07-25 23:00   \n",
      "\n",
      "   total_records  \n",
      "0         158282  \n"
     ]
    }
   ],
   "source": [
    "# Overview of our db \n",
    "overview_query = \"\"\"\n",
    "SELECT \n",
    "    COUNT(DISTINCT timestamp) as collection_times,\n",
    "    COUNT(DISTINCT station_id) as unique_stations,\n",
    "    MIN(timestamp) as first_collection,\n",
    "    MAX(timestamp) as last_collection,\n",
    "    COUNT(*) as total_records\n",
    "FROM bike_availability\n",
    "\"\"\"\n",
    "\n",
    "df_overview = pd.read_sql_query(overview_query, conn)\n",
    "print(\"Data Collection Overview:\")\n",
    "print(df_overview)"
   ]
  },
  {
   "cell_type": "code",
   "execution_count": 6,
   "id": "c2c5e9f4",
   "metadata": {},
   "outputs": [
    {
     "name": "stdout",
     "output_type": "stream",
     "text": [
      "Data for busiest station:\n",
      "   station_id   avg_bikes  bike_fluctuation  data_points\n",
      "0     ST-3094   48.034483                91           58\n",
      "1      ST-891   37.724138                88           58\n",
      "2     ST-2045  115.465517                87           58\n",
      "3     ST-2031   35.172414                82           58\n",
      "4      ST-997   71.948276                60           58\n",
      "5     ST-2056   68.206897                58           58\n",
      "6     ST-2007   33.413793                51           58\n",
      "7     ST-2050   69.189655                49           58\n",
      "8     ST-1995   23.241379                47           58\n",
      "9     ST-1990   12.931034                46           58\n",
      "10    ST-2013   37.258621                46           58\n",
      "11    ST-2844   25.706897                46           58\n",
      "12    ST-1645   82.724138                45           58\n",
      "13      ST-18   19.206897                45           58\n",
      "14    ST-2871   38.379310                45           58\n",
      "15    ST-3311   48.431034                45           58\n",
      "16    ST-2965   35.568966                44           58\n",
      "17     ST-479   59.465517                44           58\n",
      "18     ST-493   30.810345                44           58\n",
      "19    ST-1063   47.293103                43           58\n"
     ]
    }
   ],
   "source": [
    "# Querying for the busiest station (most bike movement)?\n",
    "busy_stations_query = \"\"\"\n",
    "SELECT \n",
    "    station_id,\n",
    "    AVG(available_bikes) as avg_bikes,\n",
    "    MAX(available_bikes) - MIN(available_bikes) as bike_fluctuation,\n",
    "    COUNT(*) as data_points\n",
    "FROM bike_availability\n",
    "GROUP BY station_id\n",
    "HAVING bike_fluctuation > 10\n",
    "ORDER BY bike_fluctuation DESC\n",
    "LIMIT 20\n",
    "\"\"\"\n",
    "df_busy = pd.read_sql_query(busy_stations_query, conn)\n",
    "print(\"Data for busiest station:\")\n",
    "print(df_busy)"
   ]
  },
  {
   "cell_type": "code",
   "execution_count": 7,
   "id": "fc3babcd",
   "metadata": {},
   "outputs": [
    {
     "name": "stdout",
     "output_type": "stream",
     "text": [
      "Checking how availability change over time:\n",
      "   time_of_day  avg_available_bikes  avg_available_racks\n",
      "0        18:17            11.508245             0.533529\n",
      "1        18:22            11.540491             0.501283\n",
      "2        18:27            11.583730             0.458043\n",
      "3        18:33            11.631733             0.410040\n",
      "4        18:38            11.604984             0.436790\n",
      "5        18:43            11.624038             0.417735\n",
      "6        18:48            11.638329             0.403444\n",
      "7        18:53            11.673873             0.367900\n",
      "8        18:58            11.705020             0.336753\n",
      "9        19:03            11.721143             0.320630\n",
      "10       19:08            11.720044             0.321730\n",
      "11       19:13            11.717479             0.324295\n",
      "12       19:18            11.733602             0.308171\n",
      "13       19:23            11.764016             0.277757\n",
      "14       19:28            11.780139             0.261634\n",
      "15       19:33            11.804324             0.237450\n",
      "16       19:38            11.804690             0.237083\n",
      "17       19:43            11.781971             0.259802\n",
      "18       19:48            11.777574             0.264199\n",
      "19       19:53            11.791865             0.249908\n",
      "20       19:58            11.813851             0.227922\n",
      "21       20:03            11.819714             0.222059\n",
      "22       20:08            11.784903             0.256871\n",
      "23       20:13            11.792598             0.249176\n",
      "24       20:18            11.801026             0.240748\n",
      "25       20:23            11.830707             0.211066\n",
      "26       20:24            11.825211             0.216563\n",
      "27       20:29            11.860388             0.181385\n",
      "28       20:34            11.853060             0.188714\n",
      "29       20:39            11.868816             0.172957\n",
      "30       20:44            11.871748             0.170026\n",
      "31       20:49            11.879809             0.161964\n",
      "32       20:54            11.894833             0.146940\n",
      "33       20:59            11.897398             0.144375\n",
      "34       21:04            11.899963             0.141810\n",
      "35       21:09            11.868450             0.173324\n",
      "36       21:14            11.866251             0.175522\n",
      "37       21:19            11.869549             0.172224\n",
      "38       21:25            11.886039             0.155735\n",
      "39       21:30            11.928179             0.113595\n",
      "40       21:35            11.971418             0.070355\n",
      "41       21:40            11.989373             0.052400\n",
      "42       21:45            11.984243             0.057530\n",
      "43       21:50            12.016856             0.024918\n",
      "44       21:55            12.003664             0.038109\n",
      "45       22:00            11.978014             0.063760\n",
      "46       22:05            11.968853             0.072920\n",
      "47       22:10            11.959326             0.082448\n",
      "48       22:15            11.956761             0.085013\n",
      "49       22:20            12.006962             0.034811\n",
      "50       22:25            12.037010             0.004764\n",
      "51       22:30            12.094907            -0.053133\n",
      "52       22:35            12.144375            -0.102602\n",
      "53       22:40            12.189080            -0.147307\n",
      "54       22:45            12.214364            -0.172591\n",
      "55       22:50            12.253573            -0.211799\n",
      "56       22:55            12.307805            -0.266032\n",
      "57       23:00            12.316599            -0.274826\n"
     ]
    }
   ],
   "source": [
    "# Querying for Time patterns - How does availability change over time?\n",
    "time_pattern_query = \"\"\"\n",
    "SELECT \n",
    "    strftime('%H:%M', timestamp) as time_of_day,\n",
    "    AVG(available_bikes) as avg_available_bikes,\n",
    "    AVG(available_racks) as avg_available_racks\n",
    "FROM bike_availability\n",
    "GROUP BY time_of_day\n",
    "ORDER BY time_of_day\n",
    "\"\"\"\n",
    "df_time_pattern = pd.read_sql_query(time_pattern_query, conn)\n",
    "print(\"Checking how availability change over time:\")\n",
    "print(df_time_pattern)"
   ]
  },
  {
   "cell_type": "code",
   "execution_count": 8,
   "id": "54e90f84",
   "metadata": {},
   "outputs": [
    {
     "name": "stdout",
     "output_type": "stream",
     "text": [
      "Checking for problem stations:\n",
      "     station_id  avg_bikes  min_bikes  max_bikes         status\n",
      "0         ST-10   1.706897          0          6  Usually Empty\n",
      "1       ST-1000  38.344828         31         49   Usually Full\n",
      "2       ST-1002  15.482759          8         21   Usually Full\n",
      "3       ST-1004   8.706897          6         12   Usually Full\n",
      "4       ST-1005  43.206897         36         58   Usually Full\n",
      "...         ...        ...        ...        ...            ...\n",
      "1803     ST-992  19.465517         16         22   Usually Full\n",
      "1804     ST-993  21.224138         18         24   Usually Full\n",
      "1805     ST-995  10.362069          9         12   Usually Full\n",
      "1806     ST-996   0.465517          0          2  Usually Empty\n",
      "1807     ST-997  71.948276         42        102   Usually Full\n",
      "\n",
      "[1808 rows x 5 columns]\n"
     ]
    }
   ],
   "source": [
    "# Querying for Problem stations - Always empty or always full\n",
    "problem_stations_query = \"\"\"\n",
    "SELECT \n",
    "    station_id,\n",
    "    AVG(available_bikes) as avg_bikes,\n",
    "    MIN(available_bikes) as min_bikes,\n",
    "    MAX(available_bikes) as max_bikes,\n",
    "    CASE \n",
    "        WHEN AVG(available_bikes) < 2 THEN 'Usually Empty'\n",
    "        WHEN AVG(available_racks) < 2 THEN 'Usually Full'\n",
    "        ELSE 'Normal'\n",
    "    END as status\n",
    "FROM bike_availability\n",
    "GROUP BY station_id\n",
    "HAVING status != 'Normal'\n",
    "\"\"\"\n",
    "df_problem_stations = pd.read_sql_query(problem_stations_query, conn)\n",
    "print(\"Checking for problem stations:\")\n",
    "print(df_problem_stations)"
   ]
  },
  {
   "cell_type": "code",
   "execution_count": 10,
   "id": "5d930592",
   "metadata": {},
   "outputs": [
    {
     "data": {
      "image/png": "[encoded data removed]",
      "text/plain": [
       "<Figure size 1200x600 with 1 Axes>"
      ]
     },
     "metadata": {},
     "output_type": "display_data"
    }
   ],
   "source": [
    "# Plot availability over time for a busy station\n",
    "station_timeline_query = \"\"\"\n",
    "SELECT timestamp, available_bikes, available_racks\n",
    "FROM bike_availability\n",
    "WHERE station_id = 'ST-2045'  -- Replace with a busy station\n",
    "ORDER BY timestamp\n",
    "\"\"\"\n",
    "\n",
    "df_timeline = pd.read_sql_query(station_timeline_query, conn)\n",
    "df_timeline['timestamp'] = pd.to_datetime(df_timeline['timestamp'])\n",
    "\n",
    "plt.figure(figsize=(12, 6))\n",
    "plt.plot(df_timeline['timestamp'], df_timeline['available_bikes'], label='Available Bikes')\n",
    "plt.plot(df_timeline['timestamp'], df_timeline['available_racks'], label='Available Racks')\n",
    "plt.xlabel('Time')\n",
    "plt.ylabel('Count')\n",
    "plt.title('Station ST-2045 Availability Over Time')\n",
    "plt.legend()\n",
    "plt.xticks(rotation=45)\n",
    "plt.tight_layout()\n",
    "plt.show()"
   ]
  }
 ],
 "metadata": {
  "kernelspec": {
   "display_name": ".venv (3.13.5)",
   "language": "python",
   "name": "python3"
  },
  "language_info": {
   "codemirror_mode": {
    "name": "ipython",
    "version": 3
   },
   "file_extension": ".py",
   "mimetype": "text/x-python",
   "name": "python",
   "nbconvert_exporter": "python",
   "pygments_lexer": "ipython3",
   "version": "3.13.5"
  }
 },
 "nbformat": 4,
 "nbformat_minor": 5
}
